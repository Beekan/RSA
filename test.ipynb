{
 "cells": [
  {
   "cell_type": "code",
   "execution_count": 1,
   "metadata": {},
   "outputs": [],
   "source": [
    "import random"
   ]
  },
  {
   "cell_type": "code",
   "execution_count": 2,
   "metadata": {},
   "outputs": [],
   "source": [
    "def gcd(a, b):\n",
    "    while b != 0:\n",
    "        a, b = b, a % b\n",
    "    return a"
   ]
  },
  {
   "cell_type": "code",
   "execution_count": 88,
   "metadata": {},
   "outputs": [],
   "source": [
    "def eea(R1,modulo):\n",
    "    if(gcd(R1,modulo)!=1):\n",
    "        raise Exception(f\"{R1} has no inverse in modulo {modulo}\")\n",
    "    newR=R1\n",
    "    oldR=modulo\n",
    "    newT=1\n",
    "    oldT=0\n",
    "    while(newR%oldR!=1):\n",
    "        q=int(oldR/newR)\n",
    "        temp=oldT-q*newT\n",
    "        oldT=newT\n",
    "        newT=temp\n",
    "        temp=oldR-q*newR\n",
    "        oldR=newR\n",
    "        newR=temp\n",
    "    while(newT<0):\n",
    "        newT=newT+modulo\n",
    "    return newT"
   ]
  },
  {
   "cell_type": "code",
   "execution_count": 87,
   "metadata": {},
   "outputs": [
    {
     "data": {
      "text/plain": [
       "511"
      ]
     },
     "execution_count": 87,
     "metadata": {},
     "output_type": "execute_result"
    }
   ],
   "source": [
    "eea(91,1500)"
   ]
  },
  {
   "cell_type": "code",
   "execution_count": 3,
   "metadata": {},
   "outputs": [],
   "source": [
    "def sam(expBase,expPower,modulo):\n",
    "    binPrime=bin(expPower)[3:]\n",
    "    result=expBase%modulo\n",
    "    for i in binPrime:\n",
    "        result=(result**2)%modulo\n",
    "        if i==\"1\":\n",
    "            result=(result*expBase)%modulo\n",
    "    return result"
   ]
  },
  {
   "cell_type": "code",
   "execution_count": 4,
   "metadata": {},
   "outputs": [
    {
     "data": {
      "text/plain": [
       "1"
      ]
     },
     "execution_count": 4,
     "metadata": {},
     "output_type": "execute_result"
    }
   ],
   "source": [
    "sam(2,18,19)"
   ]
  },
  {
   "cell_type": "code",
   "execution_count": 5,
   "metadata": {},
   "outputs": [],
   "source": [
    "def isPrime(x):\n",
    "    if sam(2,x-1,x)==1:\n",
    "        return True\n",
    "    else: return False"
   ]
  },
  {
   "cell_type": "code",
   "execution_count": 32,
   "metadata": {},
   "outputs": [],
   "source": [
    "def primeGen(bitLength):\n",
    "    p=random.getrandbits(bitLength)\n",
    "    while(not isPrime(p)):\n",
    "        p=random.getrandbits(bitLength)\n",
    "    return p"
   ]
  },
  {
   "cell_type": "code",
   "execution_count": 97,
   "metadata": {},
   "outputs": [],
   "source": [
    "def keyGeneration(bitLength):\n",
    "    p=primeGen(bitLength)\n",
    "    q=primeGen(bitLength)\n",
    "    n=p*q\n",
    "    phi=(p-1)*(q-1)\n",
    "    e=random.randint(1,phi-1)\n",
    "    while(gcd(e,phi)!=1):\n",
    "        e=random.randint(1,phi-1)\n",
    "    privateKey=(n,eea(e,phi))\n",
    "    publicKey=(n,e)\n",
    "    return publicKey,privateKey"
   ]
  },
  {
   "cell_type": "code",
   "execution_count": 103,
   "metadata": {},
   "outputs": [],
   "source": [
    "def encryption(message,publicKey):\n",
    "    return sam(message,publicKey[1],publickey[0])"
   ]
  },
  {
   "cell_type": "code",
   "execution_count": 104,
   "metadata": {},
   "outputs": [],
   "source": [
    "def decryption(cipher,privateKey):\n",
    "    return sam(cipher,privateKey[1],privatekey[0])"
   ]
  },
  {
   "cell_type": "code",
   "execution_count": 105,
   "metadata": {},
   "outputs": [],
   "source": [
    "class cipherRSA:\n",
    "    def __init__(self,)\n",
    "        \n",
    "    \n",
    "    "
   ]
  },
  {
   "cell_type": "code",
   "execution_count": null,
   "metadata": {},
   "outputs": [],
   "source": [
    "cipher=ch"
   ]
  },
  {
   "cell_type": "code",
   "execution_count": null,
   "metadata": {},
   "outputs": [],
   "source": []
  },
  {
   "cell_type": "code",
   "execution_count": 44,
   "metadata": {},
   "outputs": [
    {
     "data": {
      "text/plain": [
       "74509903493037327119621958246055098079112598416335053548711501550055672784040297124060717323047324157688343542650643929779512830726664248321694778601625407874202909528527206045379985825871196401019550523534332184817338450593682650952588234564718057990782980524908103376515382772573713767373534658336593804449"
      ]
     },
     "execution_count": 44,
     "metadata": {},
     "output_type": "execute_result"
    }
   ],
   "source": [
    "primeGen(1024)"
   ]
  },
  {
   "cell_type": "code",
   "execution_count": 98,
   "metadata": {},
   "outputs": [],
   "source": [
    "publicKey,privateKey=keyGeneration(1024)"
   ]
  },
  {
   "cell_type": "code",
   "execution_count": 102,
   "metadata": {},
   "outputs": [
    {
     "data": {
      "text/plain": [
       "3726135002853845069059830029787773285410759199368059023593399921602645930811774686467643492684401745111549113120281150283029920733437798964820150393427667357283538378756222578536796428432821256482137997760848809198229811447144915881205312693329701886356676545370448551060972929938700590359843582734536497416486354230348675481808507155566877886358160804208458793512147988772399775172104659786259826829873381324373640784619331757249112334259695749526650713719676253101008875291762253101836897609767476686498106673161484293047014497603101942605699223797446599073470595669166335112581523334456991762710613690163379167331"
      ]
     },
     "execution_count": 102,
     "metadata": {},
     "output_type": "execute_result"
    }
   ],
   "source": [
    "privateKey"
   ]
  }
 ],
 "metadata": {
  "kernelspec": {
   "display_name": "Python 3",
   "language": "python",
   "name": "python3"
  },
  "language_info": {
   "codemirror_mode": {
    "name": "ipython",
    "version": 3
   },
   "file_extension": ".py",
   "mimetype": "text/x-python",
   "name": "python",
   "nbconvert_exporter": "python",
   "pygments_lexer": "ipython3",
   "version": "3.6.9"
  }
 },
 "nbformat": 4,
 "nbformat_minor": 4
}
